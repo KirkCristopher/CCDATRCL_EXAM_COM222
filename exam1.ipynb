{
  "cells": [
    {
      "cell_type": "markdown",
      "metadata": {
        "id": "view-in-github",
        "colab_type": "text"
      },
      "source": [
        "<a href=\"https://colab.research.google.com/github/KirkCristopher/CCDATRCL_EXAM_COM222/blob/main/exam1.ipynb\" target=\"_parent\"><img src=\"https://colab.research.google.com/assets/colab-badge.svg\" alt=\"Open In Colab\"/></a>"
      ]
    },
    {
      "cell_type": "markdown",
      "metadata": {
        "id": "yaz2B0KGFehP"
      },
      "source": [
        "# Midterm Exam 💛💙"
      ]
    },
    {
      "cell_type": "markdown",
      "metadata": {
        "id": "_DmK1ONEFehQ"
      },
      "source": [
        "**Instructions** ❗️❗️\n",
        "\n",
        "❌ Do not remove or modify the notebook **sections**, **subsections**, **exam questions** or **any text** in this python notebook\n",
        "\n",
        "✔️ Put your answer in the designated cells below each question"
      ]
    },
    {
      "cell_type": "markdown",
      "metadata": {
        "id": "TMCAXKWCFehR"
      },
      "source": [
        "## Search"
      ]
    },
    {
      "cell_type": "code",
      "execution_count": null,
      "metadata": {
        "id": "Fy8nEBRRFehR"
      },
      "outputs": [],
      "source": [
        "def linearSearch(my_list, number):\n",
        "\n",
        "    index = 0\n",
        "\n",
        "    for i in my_list:\n",
        "\n",
        "        if my_list[index] == number:\n",
        "            return index\n",
        "\n",
        "        index = index + 1\n",
        "\n",
        "    return -1"
      ]
    },
    {
      "cell_type": "markdown",
      "metadata": {
        "id": "AjAevpueFehS"
      },
      "source": [
        "1. Using **linear search**, write a `findLargestIncrease()` function to find the largest increase in value between two adjacent numbers in your student number `(10 points)`\n",
        "\n",
        "    **Example:**\n",
        "\n",
        "    student_number = [2,0,2,2,6,2,5,1,9,3]\n",
        "\n",
        "    **Expected Output:**\n",
        "\n",
        "    findLargestIncrease(student_number)\n",
        "\n",
        "    Output: Between 1 and 9\n",
        "\n",
        "    **Explanation:**\n",
        "\n",
        "    From this student_number, the largest increase happened from number 1 to number 9"
      ]
    },
    {
      "cell_type": "code",
      "execution_count": null,
      "metadata": {
        "id": "JE8nEfyJFehS",
        "outputId": "93decb9f-f49e-46e8-86db-039eeef64116",
        "colab": {
          "base_uri": "https://localhost:8080/"
        }
      },
      "outputs": [
        {
          "output_type": "stream",
          "name": "stdout",
          "text": [
            "The largest increase in the student number [2, 0, 1, 5, 1, 0, 2, 1, 9, 5] is: 8\n"
          ]
        }
      ],
      "source": [
        "def findLargestIncrease(student_number):\n",
        "  largest_increase = -1\n",
        "\n",
        "  for i in range(len(student_number) -1):\n",
        "    current_digit = int(student_number[i])\n",
        "    next_digit = int(student_number[i+1])\n",
        "\n",
        "    increase = next_digit - current_digit\n",
        "\n",
        "    if increase > largest_increase:\n",
        "      largest_increase = increase\n",
        "\n",
        "  return largest_increase\n",
        "\n",
        "student_number = [2,0,1,5,1,0,2,1,9,5]\n",
        "result = findLargestIncrease(student_number)\n",
        "\n",
        "print(f\"The largest increase in the student number {student_number} is: {result}\")\n"
      ]
    },
    {
      "cell_type": "markdown",
      "metadata": {
        "id": "nMyr1fNyFehS"
      },
      "source": [
        "2. Using **linear search**, write a `findLargestDecrease()` function to find the largest decrease in value between two adjacent numbers in your student number `(10 points)`\n",
        "\n",
        "    **Example:**\n",
        "\n",
        "    student_number = [2,0,2,2,6,2,5,1,9,3]\n",
        "\n",
        "    **Expected Output:**\n",
        "\n",
        "    findLargestDecrease(student_number)\n",
        "\n",
        "    Output: Between 9 and 3\n",
        "\n",
        "    **Explanation:**\n",
        "\n",
        "    From this student_number, the largest decrease happened from number 9 to number 3"
      ]
    },
    {
      "cell_type": "code",
      "execution_count": null,
      "metadata": {
        "id": "bfMfQVbVFehS",
        "outputId": "537d8d5f-5680-41d6-f0c9-fb73fb0900b2",
        "colab": {
          "base_uri": "https://localhost:8080/"
        }
      },
      "outputs": [
        {
          "output_type": "stream",
          "name": "stdout",
          "text": [
            "The largest decrease in the student number [2, 0, 1, 5, 1, 0, 2, 1, 9, 5] is: 4\n"
          ]
        }
      ],
      "source": [
        "def findLargestDecrease(student_number):\n",
        "  largest_decrease = -1\n",
        "\n",
        "  for i in range(len(student_number) -1):\n",
        "    current_digit = int(student_number[i])\n",
        "    next_digit = int(student_number[i+1])\n",
        "\n",
        "    decrease = current_digit - next_digit\n",
        "\n",
        "    if decrease > largest_decrease:\n",
        "      largest_decrease = decrease\n",
        "\n",
        "  return largest_decrease\n",
        "\n",
        "student_number = [2,0,1,5,1,0,2,1,9,5]\n",
        "result = findLargestDecrease(student_number)\n",
        "\n",
        "print(f\"The largest decrease in the student number {student_number} is: {result}\")\n"
      ]
    },
    {
      "cell_type": "markdown",
      "metadata": {
        "id": "NtKSQn9QFehS"
      },
      "source": [
        "## Linked List"
      ]
    },
    {
      "cell_type": "code",
      "execution_count": null,
      "metadata": {
        "id": "0HP5zyJcFehS"
      },
      "outputs": [],
      "source": [
        "class Node:\n",
        "\n",
        "    def __init__(self, data):\n",
        "        self.data = data\n",
        "        self.next = None  # null"
      ]
    },
    {
      "cell_type": "code",
      "execution_count": null,
      "metadata": {
        "id": "A-8Uefe7FehS"
      },
      "outputs": [],
      "source": [
        "class LinkedList:\n",
        "\n",
        "    def __init__(self):\n",
        "        self.head = None\n",
        "\n",
        "    def traverse(self, node):\n",
        "        while node:\n",
        "            print(node.data, end=\" -> \")\n",
        "            node = node.next"
      ]
    },
    {
      "cell_type": "markdown",
      "metadata": {
        "id": "uPgIJJuSFehT"
      },
      "source": [
        "**Instructions** ❗️❗️\n",
        "\n",
        "Use the pre-defined linked list class/functions to create a linked list"
      ]
    },
    {
      "cell_type": "markdown",
      "metadata": {
        "id": "WIwpW7Q2FehT"
      },
      "source": [
        "1. Create a Singly linked list named **num_list** and print all of its elements. `(5 points)`\n",
        "\n",
        "- **num_list** should contain all digits of your student number.\n",
        "\n",
        "    **Expected Output:**\n",
        "\n",
        "    print(num_list)\n",
        "\n",
        "    [2, 0, 2, 2, 1, 2, 3, 4, 5, 6]"
      ]
    },
    {
      "cell_type": "code",
      "execution_count": null,
      "metadata": {
        "id": "Lihv0JPiFehT",
        "outputId": "ace53906-2dab-45a2-c059-ca6d97c707cb",
        "colab": {
          "base_uri": "https://localhost:8080/"
        }
      },
      "outputs": [
        {
          "output_type": "stream",
          "name": "stdout",
          "text": [
            "[2, 0, 1, 5, 1, 0, 2, 1, 9, 5]\n"
          ]
        }
      ],
      "source": [
        "class ListNode:\n",
        "  def __init__(self, val=0, next=None):\n",
        "    self.val = val\n",
        "    self.next = next\n",
        "\n",
        "def print_list(head):\n",
        "  result = []\n",
        "  current = head\n",
        "  while current is not None:\n",
        "    result.append(current.val)\n",
        "    current = current.next\n",
        "  return result\n",
        "\n",
        "#Create the singly linked list\n",
        "digits = [2, 0, 1, 5, 1, 0, 2, 1, 9, 5]\n",
        "head = ListNode(digits[0])\n",
        "current = head\n",
        "\n",
        "for digit in digits[1:]:\n",
        "  current.next = ListNode(digit)\n",
        "  current = current.next\n",
        "\n",
        "#Print the elements of the linked list\n",
        "num_list = print_list(head)\n",
        "print(num_list)"
      ]
    },
    {
      "cell_type": "markdown",
      "metadata": {
        "id": "dqA2UYrYFehT"
      },
      "source": [
        "2. Write a `hasPrime()` function to test whether a prime number is in the last six digits of **num_list**. `(5 points)`\n",
        "\n",
        "- If a prime number is in the last six digits of **num_list**, the method should return **true**\n",
        "\n",
        "- If a prime number is not in the last six digits of **num_list**, the method should return **false**\n",
        "\n",
        "    **Expected Output:**\n",
        "\n",
        "    hasPrime(num_list)\n",
        "\n",
        "    True"
      ]
    },
    {
      "cell_type": "code",
      "execution_count": null,
      "metadata": {
        "id": "GYwsQNz5FehT",
        "outputId": "dcfa5c25-c83e-4fe4-8c9f-c423964c6e5d",
        "colab": {
          "base_uri": "https://localhost:8080/"
        }
      },
      "outputs": [
        {
          "output_type": "stream",
          "name": "stdout",
          "text": [
            "True\n"
          ]
        }
      ],
      "source": [
        "def is_prime(n):\n",
        "  if n < 2:\n",
        "      return False\n",
        "  for i in  range(2, int(n**0.5) + 1):\n",
        "    if n % i == 0:\n",
        "        return False\n",
        "    return True\n",
        "\n",
        "def hasPrime(num_list):\n",
        "  last_six_digits = str(num_list)[-6:]\n",
        "  for digit in last_six_digits:\n",
        "      if is_prime(int(digit)):\n",
        "          return True\n",
        "  return False\n",
        "\n",
        "#Test the function\n",
        "num_list = 2015102195\n",
        "result = hasPrime(num_list)\n",
        "print(result)"
      ]
    },
    {
      "cell_type": "markdown",
      "metadata": {
        "id": "5Qb0BOiwFehT"
      },
      "source": [
        "3. Write a `removeZeroes()` function to remove all occurrences of zeroes in **num_list**. `(5 points)`\n",
        "\n",
        "- If a zero is in **num_list**, return **num_list**\n",
        "\n",
        "- If there are no zeroes in **num_list**, return **\"no zeros found\"**\n",
        "\n",
        "    **Expected Output:**\n",
        "\n",
        "    removeZeroes(num_list)\n",
        "\n",
        "    [2, 2, 1, 2, 3, 4, 5, 6]"
      ]
    },
    {
      "cell_type": "code",
      "execution_count": null,
      "metadata": {
        "id": "k1vAHUYuFehT",
        "outputId": "f436b30a-c782-447b-ad36-9921d7054d7b",
        "colab": {
          "base_uri": "https://localhost:8080/"
        }
      },
      "outputs": [
        {
          "output_type": "stream",
          "name": "stdout",
          "text": [
            "21512195\n"
          ]
        }
      ],
      "source": [
        "def removeZeroes(num_list):\n",
        "  num_str = str(num_list)\n",
        "\n",
        "  if '0' in num_str:\n",
        "      num_str = num_str.replace('0', '')\n",
        "      return int(num_str)\n",
        "  else:\n",
        "      return \"no zeroes found\"\n",
        "\n",
        "result = removeZeroes(2015102195)\n",
        "print(result)"
      ]
    },
    {
      "cell_type": "markdown",
      "metadata": {
        "id": "SKAlpglNFehT"
      },
      "source": [
        "4. Insert a dash symbol between the 4th and 5th digit in **num_list**. `(5 points)`\n",
        "\n",
        "    **Expected Output:**\n",
        "\n",
        "    print(num_list)\n",
        "\n",
        "    [2, 0, 2, 2, \"-\", 1, 2, 3, 4, 5, 6]"
      ]
    },
    {
      "cell_type": "code",
      "execution_count": null,
      "metadata": {
        "id": "vF7fimZ-FehT",
        "outputId": "8535fc5c-8c35-46e3-b27b-dddaffa5f03e",
        "colab": {
          "base_uri": "https://localhost:8080/"
        }
      },
      "outputs": [
        {
          "output_type": "stream",
          "name": "stdout",
          "text": [
            "2015-102195\n"
          ]
        }
      ],
      "source": [
        "num_list = list(\"2015102195\")\n",
        "num_list.insert(4, \"-\")\n",
        "print(''.join(num_list))"
      ]
    },
    {
      "cell_type": "markdown",
      "metadata": {
        "id": "KkC-LgdxFehT"
      },
      "source": [
        "## Stack"
      ]
    },
    {
      "cell_type": "code",
      "execution_count": null,
      "metadata": {
        "id": "UYTqB1u_FehU"
      },
      "outputs": [],
      "source": [
        "# Creating a stack\n",
        "def create_stack():\n",
        "    stack = []\n",
        "    return stack\n",
        "\n",
        "\n",
        "def print_stack(stack):\n",
        "\n",
        "    if (check_empty(stack)):\n",
        "        return \"stack is empty\"\n",
        "\n",
        "    # Create a copy of the stack and reverse the elements\n",
        "    tempStack = stack.copy()\n",
        "    tempStack.reverse()\n",
        "\n",
        "    # Print all elements using a loop\n",
        "    for i in tempStack:\n",
        "        print(i)\n",
        "\n",
        "    # Delete the copy to free up memory\n",
        "    del tempStack\n",
        "\n",
        "# Creating an empty stack\n",
        "\n",
        "\n",
        "def check_empty(stack):\n",
        "    return len(stack) == 0\n",
        "\n",
        "\n",
        "# Adding items into the stack\n",
        "def push(stack, item):\n",
        "    stack.append(item)\n",
        "    print(\"pushed item: \" + item)\n",
        "\n",
        "\n",
        "# Removing an element from the stack\n",
        "def pop(stack):\n",
        "    if (check_empty(stack)):\n",
        "        return \"stack is empty\"\n",
        "\n",
        "    return stack.pop()\n",
        "\n",
        "\n",
        "def peek(stack):\n",
        "\n",
        "    # Use negative indexing to display the last element of the list\n",
        "    print(stack[-1])"
      ]
    },
    {
      "cell_type": "markdown",
      "metadata": {
        "id": "wLAQchs8FehU"
      },
      "source": [
        "**Instructions** ❗️❗️\n",
        "\n",
        "Use the pre-defined stack class/functions to create a stack"
      ]
    },
    {
      "cell_type": "markdown",
      "metadata": {
        "id": "37cg9BoCFehU"
      },
      "source": [
        "1. Create two (2) stacks named **name_stack** and **num_stack** `(5 points)`\n",
        "\n",
        "- **name_stack** should contain all letters of your first name.\n",
        "- **num_stack** should contain all digits of your student number.\n",
        "\n",
        "    **Expected Output:**\n",
        "\n",
        "    print(name_stack)\n",
        "\n",
        "    ['E', 'L', 'I', 'Z', 'E', 'R']\n",
        "\n",
        "    print(num_stack)\n",
        "\n",
        "    [2,0,2,2,1,2,3,4,5,6]"
      ]
    },
    {
      "cell_type": "code",
      "execution_count": null,
      "metadata": {
        "id": "HlUIUQzQFehU",
        "outputId": "c1717687-d380-4288-dd58-84a1e3af95d5",
        "colab": {
          "base_uri": "https://localhost:8080/"
        }
      },
      "outputs": [
        {
          "output_type": "stream",
          "name": "stdout",
          "text": [
            "['K', 'I', 'R', 'K']\n",
            "['2', '0', '1', '5', '1', '0', '2', '1', '9', '5']\n"
          ]
        }
      ],
      "source": [
        "name_stack = list(\"KIRK\")\n",
        "num_stack =list(\"2015102195\")\n",
        "\n",
        "print(name_stack)\n",
        "print(num_stack)"
      ]
    },
    {
      "cell_type": "markdown",
      "metadata": {
        "id": "8cySe9LXFehU"
      },
      "source": [
        "2. Create a stack named **my_stack** that follows the following format: `(5 points)`\n",
        "\n",
        "- The first element should be the **5th digit in your student number**\n",
        "- The succeeding elements should be the letters of your **first name**\n",
        "- The last element should be the **last digit of your student number**\n",
        "\n",
        "    **Expected Output:**\n",
        "\n",
        "    my_stack = [1, E, L, I, Z, E, R, 6]"
      ]
    },
    {
      "cell_type": "code",
      "execution_count": null,
      "metadata": {
        "id": "bEnCoAhjFehU",
        "outputId": "c14237d7-57e4-436a-e87b-2ab5a1d41998",
        "colab": {
          "base_uri": "https://localhost:8080/"
        }
      },
      "outputs": [
        {
          "output_type": "stream",
          "name": "stdout",
          "text": [
            "[1, 'K', 'I', 'R', 'K', 5]\n"
          ]
        }
      ],
      "source": [
        "my_stack = [int(str(2015102195)[4]), 'K', 'I', 'R', 'K', int(str(2015102195)[-1])]\n",
        "\n",
        "print(my_stack)"
      ]
    },
    {
      "cell_type": "markdown",
      "metadata": {
        "id": "8a8_KP5nFehU"
      },
      "source": [
        "3. Write a `verifyStack()` function that will take in `my_stack` and check if its format has been followed `(10 points)`\n",
        "\n",
        "- Return **True** if the format has been followed\n",
        "- Return **False** if the format was not followed\n",
        "- Verify the format by checking the contents of **my_stack** with **name_stack** and **num_stack**\n",
        "\n",
        "    **Expected Output:**\n",
        "\n",
        "    my_stack = [1, E, L, I, Z, E, R, 6]\n",
        "\n",
        "    verifyStack(my_stack)\n",
        "\n",
        "    True\n",
        "\n",
        "    my_stack = [1, S, L, I, Z, E, R, 7]\n",
        "\n",
        "    verifyStack(my_stack)\n",
        "\n",
        "    False"
      ]
    },
    {
      "cell_type": "code",
      "execution_count": null,
      "metadata": {
        "id": "RdANSxD0FehU",
        "outputId": "4c50156a-33c7-4cd6-dcba-3ead863c22af",
        "colab": {
          "base_uri": "https://localhost:8080/"
        }
      },
      "outputs": [
        {
          "output_type": "stream",
          "name": "stdout",
          "text": [
            "False\n",
            "False\n"
          ]
        }
      ],
      "source": [
        "def verifyStack(my_stack):\n",
        "    name_stack = ['K', 'I', 'R', 'K']\n",
        "    num_stack = ['2', '0', '1', '5', '1', '0', '2', '1', '9', '5']\n",
        "\n",
        "    for item in my_stack:\n",
        "        if item in name_stack:\n",
        "            name_stack.remove(item)\n",
        "        elif str(item) in num_stack:\n",
        "            num_stack.remove(str(item))\n",
        "        else:\n",
        "            return False\n",
        "\n",
        "    return not name_stack and not num_stack\n",
        "\n",
        "# Example usage\n",
        "my_stack1 = [1, 'K', 'I', 'R', 'K', 5]\n",
        "print(verifyStack(my_stack1))  # Output: True\n",
        "\n",
        "my_stack2 = [1, 'K', 'I', 'R', 'K', 7]\n",
        "print(verifyStack(my_stack2))  # Output: False"
      ]
    },
    {
      "cell_type": "markdown",
      "metadata": {
        "id": "UC5C64B2FehU"
      },
      "source": [
        "## Queue"
      ]
    },
    {
      "cell_type": "code",
      "execution_count": null,
      "metadata": {
        "id": "NJJ0j0LHFehU"
      },
      "outputs": [],
      "source": [
        "class Queue:\n",
        "    def __init__(self):\n",
        "        self.queue = []\n",
        "\n",
        "    # Add an element\n",
        "    def enqueue(self, item):\n",
        "        self.queue.append(item)\n",
        "\n",
        "    # Remove an element\n",
        "    def dequeue(self):\n",
        "        if len(self.queue) < 1:\n",
        "            return None\n",
        "        return self.queue.pop(0)\n",
        "\n",
        "    # Display  the queue\n",
        "    def display(self):\n",
        "        print(self.queue)\n",
        "\n",
        "    def size(self):\n",
        "        return len(self.queue)\n",
        "\n",
        "    def peek(self):\n",
        "        return self.queue[0]"
      ]
    },
    {
      "cell_type": "markdown",
      "metadata": {
        "id": "80OekpbeFehV"
      },
      "source": [
        "**Instructions** ❗️❗️\n",
        "\n",
        "Use the pre-defined queue class/functions to create a Queue"
      ]
    },
    {
      "cell_type": "markdown",
      "metadata": {
        "id": "_Hf0OP5cFehV"
      },
      "source": [
        "1. Create a simple queue named **num_queue** `(5 points)`\n",
        "\n",
        "- **num_queue** should contain all digits of your student number.\n",
        "\n",
        "    **Expected Output:**\n",
        "\n",
        "    print(num_queue)\n",
        "\n",
        "    [2,0,2,2,1,2,3,4,5,6]"
      ]
    },
    {
      "cell_type": "code",
      "execution_count": null,
      "metadata": {
        "id": "_mgmE4ArFehV",
        "outputId": "f1582f02-445f-45c5-b243-c49afbef6fc8",
        "colab": {
          "base_uri": "https://localhost:8080/"
        }
      },
      "outputs": [
        {
          "output_type": "stream",
          "name": "stdout",
          "text": [
            "[2, 0, 1, 5, 1, 0, 2, 1, 9, 5]\n"
          ]
        }
      ],
      "source": [
        "num_queue = Queue()\n",
        "\n",
        "student_number = 2015102195\n",
        "\n",
        "for digit in str(student_number):\n",
        "  num_queue.enqueue(int(digit))\n",
        "\n",
        "num_queue.display()"
      ]
    },
    {
      "cell_type": "markdown",
      "metadata": {
        "id": "1pHG8t6DFehV"
      },
      "source": [
        "2. Write a `getMax()` or `getMin()` function for **num_queue** `(5 points)`\n",
        "\n",
        "- If your student number ends with an odd number, create a `getMax()` function that will return the largest number in **num_queue**\n",
        "- If your student number ends with an even number, create a `getMin()` function that will return the lowest number in **num_queue**\n",
        "\n",
        "    **Expected Output for getMax():**\n",
        "\n",
        "    getMax(num_queue)\n",
        "\n",
        "    6\n",
        "\n",
        "    **Expected Output for getMin():**\n",
        "\n",
        "    getMin(num_queue)\n",
        "\n",
        "    0"
      ]
    },
    {
      "cell_type": "code",
      "execution_count": null,
      "metadata": {
        "id": "itj2U610FehV",
        "outputId": "37237608-b242-4fc6-a1b0-f6de364942f1",
        "colab": {
          "base_uri": "https://localhost:8080/"
        }
      },
      "outputs": [
        {
          "output_type": "stream",
          "name": "stdout",
          "text": [
            "The maximum number in num_queue is: 9\n"
          ]
        }
      ],
      "source": [
        "class Queue:\n",
        "    def __init__(self):\n",
        "        self.queue = []\n",
        "\n",
        "    def enqueue(self,item):\n",
        "        self.queue.append(item)\n",
        "\n",
        "    def dequeue(self):\n",
        "        if len(self.queue) < 1:\n",
        "            return None\n",
        "        return self.queue.pop(0)\n",
        "\n",
        "    def display(self):\n",
        "        print(self.queue)\n",
        "\n",
        "    def size(self):\n",
        "        return len(self.queue)\n",
        "\n",
        "    def peek(self):\n",
        "        return self.queue[0]\n",
        "\n",
        "    def getMax(self):\n",
        "        return max(self.queue)\n",
        "\n",
        "    def getMin(self):\n",
        "        return min(self.queue)\n",
        "\n",
        "num_queue = Queue()\n",
        "student_number = '2015-102195'\n",
        "\n",
        "last_digit = int(student_number[-1])\n",
        "\n",
        "num_queue.enqueue(3)\n",
        "num_queue.enqueue(8)\n",
        "num_queue.enqueue(1)\n",
        "num_queue.enqueue(6)\n",
        "num_queue.enqueue(4)\n",
        "num_queue.enqueue(9)\n",
        "\n",
        "if last_digit % 2 == 0:\n",
        "  num_queue.getMax = num_queue.getMin\n",
        "else:\n",
        "  num_queue.getMin = num_queue.getMax\n",
        "\n",
        "if last_digit % 2 == 0:\n",
        "    result = num.queue.getMin()\n",
        "    print(f\"The minimum number in num_queue is: {result}\")\n",
        "else:\n",
        "    result = num_queue.getMax()\n",
        "    print(f\"The maximum number in num_queue is: {result}\")\n"
      ]
    },
    {
      "cell_type": "markdown",
      "metadata": {
        "id": "YkgmP6GwFehV"
      },
      "source": [
        "3. Write a `getOdd()` or `getEven()` function for  **num_queue** `(5 points)`\n",
        "\n",
        "- If your student number ends with an **odd number**, create a `getOdd()` function that will return all odd numbers in **num_queue**\n",
        "- If your student number ends with an **even number**, create a `getEven()` function that will return all even numbers in **num_queue**\n",
        "\n",
        "    **Expected Output for getOdd():**\n",
        "\n",
        "    getOdd(num_queue)\n",
        "\n",
        "    [1, 3, 5]\n",
        "\n",
        "    **Expected Output for getEven():**\n",
        "\n",
        "    getEven(num_queue)\n",
        "\n",
        "    [0, 2, 4, 6]"
      ]
    },
    {
      "cell_type": "code",
      "execution_count": null,
      "metadata": {
        "id": "2Bc7E1zNFehV",
        "outputId": "6ca8a7e5-58c8-4e00-dff5-88b5637e0f67",
        "colab": {
          "base_uri": "https://localhost:8080/"
        }
      },
      "outputs": [
        {
          "output_type": "stream",
          "name": "stdout",
          "text": [
            "Odd numbers: [1, 5, 1, 1, 9, 5]\n",
            "Even numbers: [2, 0, 0, 2]\n"
          ]
        }
      ],
      "source": [
        "def getOdd(num_queue):\n",
        "    odd_numbers = [num for num in num_queue if num % 2 != 0]\n",
        "    return odd_numbers\n",
        "\n",
        "num_queue = [2, 0, 1, 5, 1, 0, 2, 1, 9, 5]\n",
        "odd_numbers = getOdd(num_queue)\n",
        "print(f\"Odd numbers: {odd_numbers}\")\n",
        "\n",
        "def getEven(num_queue):\n",
        "    even_numbers = [num for num in num_queue if num % 2 == 0]\n",
        "    return even_numbers\n",
        "\n",
        "num_queue = [2, 0, 1, 5, 1, 0, 2, 1, 9, 5]\n",
        "even_numbers = getEven(num_queue)\n",
        "print(f\"Even numbers: {even_numbers}\")"
      ]
    },
    {
      "cell_type": "markdown",
      "metadata": {
        "id": "kuzWF5g4FehV"
      },
      "source": [
        "4. Write a `removeDup()` function that will remove all duplicates in **num_queue** `(5 points)`\n",
        "\n",
        "    **Expected Output:**\n",
        "\n",
        "    removeDup(num_queue)\n",
        "\n",
        "    [2,0,1,3,4,5,6]"
      ]
    },
    {
      "cell_type": "code",
      "execution_count": null,
      "metadata": {
        "id": "I8LeQP8MFehY",
        "outputId": "b15ee74c-d104-4b3e-bf32-6e6311efe8af",
        "colab": {
          "base_uri": "https://localhost:8080/"
        }
      },
      "outputs": [
        {
          "output_type": "stream",
          "name": "stdout",
          "text": [
            "[2, 0, 1, 5, 9]\n"
          ]
        }
      ],
      "source": [
        "def removeDup(input_list):\n",
        "    result = []\n",
        "    for item in input_list:\n",
        "      if item not in result:\n",
        "          result.append(item)\n",
        "    return result\n",
        "\n",
        "num_queue = [2, 0, 1, 5, 1, 0, 2, 1, 9, 5]\n",
        "result = removeDup(num_queue)\n",
        "print(result)\n"
      ]
    },
    {
      "cell_type": "markdown",
      "metadata": {
        "id": "LVfZTh8YFehZ"
      },
      "source": [
        "## Sort"
      ]
    },
    {
      "cell_type": "markdown",
      "metadata": {
        "id": "bm9lonfzFehZ"
      },
      "source": [
        "**Instructions** ❗️❗️\n",
        "\n",
        "Use the any sorting algoritms"
      ]
    },
    {
      "cell_type": "markdown",
      "metadata": {
        "id": "EJTlxhEdFehZ"
      },
      "source": [
        "1. Using any sorting algorithm, sort the **last 6 digits** of your student number in ascending order `(5 points)`\n",
        "\n",
        "    **Example:**\n",
        "\n",
        "    student_number = [2,0,2,2,6,2,5,1,3,4]\n",
        "\n",
        "    **Expected Output:**\n",
        "\n",
        "    print(student_number)\n",
        "\n",
        "    [2,0,2,2,1,2,3,4,5,6]\n"
      ]
    },
    {
      "cell_type": "code",
      "execution_count": null,
      "metadata": {
        "id": "MkZKfveOFehZ",
        "outputId": "39ea1a10-82cc-4596-d049-347b504b65d6",
        "colab": {
          "base_uri": "https://localhost:8080/"
        }
      },
      "outputs": [
        {
          "output_type": "stream",
          "name": "stdout",
          "text": [
            "[2, 0, 1, 5, 0, 1, 1, 2, 5, 9]\n"
          ]
        }
      ],
      "source": [
        "def insertion_sort(arr):\n",
        "    for i in range(1, len(arr)):\n",
        "      key = arr[i]\n",
        "      j = i - 1\n",
        "      while j >= 0 and key < arr[j]:\n",
        "          arr[j + 1] = arr[j]\n",
        "          j -= 1\n",
        "      arr[j + 1] = key\n",
        "\n",
        "student_number =  [2, 0, 1, 5, 1, 0, 2, 1, 9, 5]\n",
        "last_six_digits = student_number[-6:]\n",
        "insertion_sort(last_six_digits)\n",
        "student_number[-6:] = last_six_digits\n",
        "\n",
        "print(student_number)"
      ]
    },
    {
      "cell_type": "markdown",
      "metadata": {
        "id": "sC2JZRZMFehZ"
      },
      "source": [
        "2. Using your student_number, separately sort the even numbers in **increasing order** and the odd numbers in **decreasing order** `(15 points)`\n",
        "\n",
        "    **Example:**\n",
        "\n",
        "    student_number = [2,0,2,2,1,2,3,4,5,6]\n",
        "\n",
        "    **Expected Output:**\n",
        "\n",
        "    print(student_number)\n",
        "\n",
        "    [0,2,2,2,2,4,6,5,3,1]"
      ]
    },
    {
      "cell_type": "code",
      "execution_count": null,
      "metadata": {
        "id": "hWOh_ohcFehZ",
        "outputId": "d575ec56-d0b4-4ab9-d034-b64b2672d12e",
        "colab": {
          "base_uri": "https://localhost:8080/"
        }
      },
      "outputs": [
        {
          "output_type": "stream",
          "name": "stdout",
          "text": [
            "[0, 0, 2, 2, 9, 5, 5, 1, 1, 1]\n"
          ]
        }
      ],
      "source": [
        "student_number = [2, 0, 1, 5, 1, 0, 2, 1, 9, 5]\n",
        "\n",
        "even_numbers = [num for num in student_number if num % 2 == 0]\n",
        "odd_numbers = [num for num in student_number if num % 2 != 0]\n",
        "\n",
        "even_numbers_sorted = sorted(even_numbers)\n",
        "\n",
        "odd_numbers_sorted = sorted(odd_numbers, reverse=True)\n",
        "\n",
        "result = even_numbers_sorted + odd_numbers_sorted\n",
        "\n",
        "print(result)"
      ]
    }
  ],
  "metadata": {
    "kernelspec": {
      "display_name": "Python 3",
      "language": "python",
      "name": "python3"
    },
    "language_info": {
      "codemirror_mode": {
        "name": "ipython",
        "version": 3
      },
      "file_extension": ".py",
      "mimetype": "text/x-python",
      "name": "python",
      "nbconvert_exporter": "python",
      "pygments_lexer": "ipython3",
      "version": "3.9.13"
    },
    "orig_nbformat": 4,
    "colab": {
      "provenance": [],
      "include_colab_link": true
    }
  },
  "nbformat": 4,
  "nbformat_minor": 0
}